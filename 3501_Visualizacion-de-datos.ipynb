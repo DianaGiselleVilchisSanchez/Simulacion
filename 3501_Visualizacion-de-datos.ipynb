{
 "cells": [
  {
   "cell_type": "markdown",
   "id": "9c30e9af-d253-4738-b241-e7ad5f5222a4",
   "metadata": {},
   "source": [
    "# Visualizacion del DataSet\n",
    "\n",
    "En este Notebook se muestran algunos de los mecanismos más utilizados para la visualización de Datos."
   ]
  },
  {
   "cell_type": "markdown",
   "id": "c1d8977d-c8a3-4cdb-bf74-23a9072a6533",
   "metadata": {},
   "source": [
    "### Abstract\n",
    "\n",
    "NSL-KDD is a data set suggested to solve some of the inherent problems of the KDD'99 data set which are mentioned in [1]. Although, this new version of the KDD data set still suffers from some of the problems discussed by McHugh [2] and may not be a perfect representative of existing real networks, because of the lack of public data sets for network-based IDSs, we believe it still can be applied as an effective benchmark data set to help researchers compare different intrusion detection methods. Furthermore, the number of records in the NSL-KDD train and test sets are reasonable. This advantage makes it affordable to run the experiments on the complete set without the need to randomly select a small portion. Consequently, evaluation results of different research work will be consistent and comparable.\n",
    "\n",
    "### Data Files\n",
    "\n",
    "* <span style = \"color:green\">**KDDTrain+.ARFF** - The full NSL-KDD train set with binary labels in ARFF format </span>\n",
    "\n",
    "* <span style = \"color:green\">**KDDTrain+.TXT**- The full NSL-KDD train set including attack-type labels and difficulty level in CSV format</span>\n",
    "\n",
    "* KDDTrain+_20Percent.ARFF - A 20% subset of the KDDTrain+.arff file\n",
    "\n",
    "* KDDTrain+_20Percent.TXT - A 20% subset of the KDDTrain+.txt file\n",
    "\n",
    "* KDDTest+.ARFF - The full NSL-KDD test set with binary labels in ARFF format\n",
    "\n",
    "* KDDTest+.TXT - The full NSL-KDD test set including attack-type labels and difficulty level in CSV format\n",
    "\n",
    "* KDDTest-21.ARFF - A subset of the KDDTest+.arff file which does not include records with difficulty level of 21 out of 21\n",
    "\n",
    "* KDDTest-21.TXT - A subset of the KDDTest+.txt file which does not include records with difficulty level of 21 out of 21"
   ]
  },
  {
   "cell_type": "code",
   "execution_count": null,
   "id": "c619117e-5954-44a3-8c05-cfb07377dd51",
   "metadata": {},
   "outputs": [],
   "source": [
    "# Lectura del DataSet mediante funciones de Python\n",
    "with open('datasets/datasets/NSL-KDD/KDDTrain+.txt') as train_set:\n",
    "    df = train_set.readlines()\n",
    "df"
   ]
  },
  {
   "cell_type": "code",
   "execution_count": null,
   "id": "c16023e8-8973-441b-a049-10989beda18b",
   "metadata": {},
   "outputs": [],
   "source": [
    "import pandas as pd\n",
    "df = pd.read_csv(\"datasets/datasets/NSL-KDD/KDDTrain+.txt\")\n",
    "df"
   ]
  },
  {
   "cell_type": "code",
   "execution_count": null,
   "id": "16000af3-072a-4da8-acd3-c3db9a00bb72",
   "metadata": {},
   "outputs": [],
   "source": [
    "import os\n",
    "os.listdir('datasets/datasets/NSL-KDD')"
   ]
  },
  {
   "cell_type": "code",
   "execution_count": null,
   "id": "7f187c77-4b3d-4f3e-a25e-7e639af83ef4",
   "metadata": {},
   "outputs": [],
   "source": [
    "# instalar un nuevo paquetito en el kernel de Jupyter Notebook actual\n",
    "# Para parsear ficheros .arff\n",
    "import sys\n",
    "\n",
    "!{sys.executable} -m pip install liac-arff"
   ]
  },
  {
   "cell_type": "code",
   "execution_count": null,
   "id": "99e064bf-3d38-413d-84b1-bc8c3d0011a8",
   "metadata": {},
   "outputs": [],
   "source": [
    "# Lectura del DataSet que se encuentra en formato .arff\n",
    "import arff\n",
    "with open('datasets/datasets/NSL-KDD/KDDTrain+.arff', 'r') as train_set:\n",
    "    df= arff.load(train_set)\n",
    "df.keys()"
   ]
  },
  {
   "cell_type": "code",
   "execution_count": null,
   "id": "86e1543c-18c7-47e3-a0ec-72ef893855fd",
   "metadata": {},
   "outputs": [],
   "source": [
    "df[\"data\"]"
   ]
  },
  {
   "cell_type": "code",
   "execution_count": null,
   "id": "5c4b1b2e-8630-4e72-b05a-1bbca3696eac",
   "metadata": {},
   "outputs": [],
   "source": [
    "df[\"attributes\"]"
   ]
  },
  {
   "cell_type": "code",
   "execution_count": null,
   "id": "2ee2f610-0770-431a-b610-a9c351015ad5",
   "metadata": {},
   "outputs": [],
   "source": [
    "# Parsear los atributos y obtener unicamente los nombres\n",
    "atributos = [attr[0] for attr in df ['attributes']]\n",
    "atributos"
   ]
  },
  {
   "cell_type": "code",
   "execution_count": null,
   "id": "c7be7a04-23f7-46c1-a68c-607c2bd09506",
   "metadata": {},
   "outputs": [],
   "source": [
    "# Leer el DataSet con pandas y facilitar su manipulación\n",
    "df = pd.DataFrame(df[\"data\"], columns = atributos)\n",
    "df"
   ]
  },
  {
   "cell_type": "markdown",
   "id": "1aaf6dd3-53c5-49f0-8f97-a619f9e77938",
   "metadata": {},
   "source": [
    "Lo ideal es contruir una función que permita leer el DataSet de manera más limpia. Este tipo de practicas son de gran utilidad, para que nuestro codigo en Jupyter Notebook sea más modular y pueda reutilizarse de manera más sencilla para futuros despliegues"
   ]
  },
  {
   "cell_type": "code",
   "execution_count": null,
   "id": "8e70386b-2cbd-477c-827b-2d4a4cc71ce7",
   "metadata": {},
   "outputs": [],
   "source": [
    "def load_kdd_dataset(data_path):\n",
    "    \"\"\"Lectura del DataSet NSL-KDD.\"\"\"\n",
    "    with open(data_path, 'r') as train_set:\n",
    "        dataset = arff.load(train_set)\n",
    "        attributes = [attr[0] for attr in dataset ['attributes']]\n",
    "        return pd.DataFrame(dataset['data'], columns = attributes)"
   ]
  },
  {
   "cell_type": "code",
   "execution_count": null,
   "id": "bdb2cad6-6cd5-44fe-b44c-ae5af82265c7",
   "metadata": {},
   "outputs": [],
   "source": [
    "load_kdd_dataset('datasets/datasets/NSL-KDD/KDDTrain+.arff')"
   ]
  },
  {
   "cell_type": "markdown",
   "id": "e79e4284-f7d2-4c01-92a4-b9ae3bdbe9d9",
   "metadata": {},
   "source": [
    "# 2,- Funciones básicas de visualización de datos\n",
    "* El proceso de visualización siempre debe realizarse sobre el training_set. Esto evita que nuestro entrenamiento genere intuiciones del test_set que se incorpore a nuestro modelo.\n",
    "* Una buena practica es crear una copia del training-set y jugar con ella, de esta manera si se realiza transformaciones que dañen el training_set el original no se verá afectado"
   ]
  },
  {
   "cell_type": "code",
   "execution_count": null,
   "id": "bb46d9e7-6a43-48d5-afcd-f7130d3868b7",
   "metadata": {},
   "outputs": [],
   "source": [
    "# Lectura y copia del DataSet\n",
    "df_orig = load_kdd_dataset(\"datasets/datasets/NSL-KDD/KDDTrain+.arff\")\n",
    "df= df_orig.copy()"
   ]
  },
  {
   "cell_type": "code",
   "execution_count": null,
   "id": "9c15093d-0d4c-48fb-924f-d01329f33e40",
   "metadata": {},
   "outputs": [],
   "source": [
    "df.head(10)"
   ]
  },
  {
   "cell_type": "code",
   "execution_count": null,
   "id": "f44a8dfa-3a9d-4314-8d9e-fcdaa564209b",
   "metadata": {},
   "outputs": [],
   "source": [
    "# Mostrar la información básica sobre el DataSet\n",
    "df.info()"
   ]
  },
  {
   "cell_type": "code",
   "execution_count": null,
   "id": "4e40c115-abf2-4317-afba-af101ba590dd",
   "metadata": {},
   "outputs": [],
   "source": [
    "# Mostrar las funciones estadisticas sobre el DataSet\n",
    "df.describe()"
   ]
  },
  {
   "cell_type": "code",
   "execution_count": null,
   "id": "80d9ef02-67a7-4651-91b0-9123cb4cdbfe",
   "metadata": {},
   "outputs": [],
   "source": [
    "# Mostar los valores unicos que tiene un atributo determinado\n",
    "df[\"protocol_type\"].value_counts()"
   ]
  },
  {
   "cell_type": "code",
   "execution_count": null,
   "id": "67cd164c-d9f2-4ce4-a05a-447d7c81bf0c",
   "metadata": {},
   "outputs": [],
   "source": [
    "df[\"class\"].value_counts()"
   ]
  },
  {
   "cell_type": "code",
   "execution_count": null,
   "id": "ee7a48f8-026b-4139-af13-6408aeddaae7",
   "metadata": {},
   "outputs": [],
   "source": [
    "# Mostrar lo valores de las caracteristicas como un histográma\n",
    "\n",
    "%matplotlib inline\n",
    "import matplotlib.pyplot as plt\n",
    "df[\"protocol_type\"].hist()"
   ]
  },
  {
   "cell_type": "code",
   "execution_count": null,
   "id": "2a509896-240d-4be2-a973-9e95569874f9",
   "metadata": {},
   "outputs": [],
   "source": [
    "# Representar gráficamnete la distribución de los atributos\n",
    "df.hist(bins = 50, figsize=(20, 15))\n",
    "plt.show()"
   ]
  },
  {
   "cell_type": "markdown",
   "id": "7ca372fa-c10d-42bb-90c1-7010af969a65",
   "metadata": {},
   "source": [
    "# 3.- Funciones Avanzadas de Visualización de los Datos\n",
    "\n",
    "Buscando correlaciones\n",
    "* Se puede calcular el coeficiente de correlación para evaluar la correlación entre cada par de atributos\n",
    "* El coeficiente de correlación, solo mide **correlaciones lineales**, esto quiere decir que si **x** va a hacia arriba, mediría si **y** va hacia abajo ó hacia arriba\n",
    "* **Hay que intentar buscar correlaciones sobre todo con el atributo objetivo (el que se desea predecir), en este caso es class**"
   ]
  },
  {
   "cell_type": "code",
   "execution_count": null,
   "id": "53f24cce-e356-4f25-a0b5-561706c3e15b",
   "metadata": {},
   "outputs": [],
   "source": [
    "# El atributo a class de nuestro DataSet tiene valores categóricos\n",
    "df['class']"
   ]
  },
  {
   "cell_type": "code",
   "execution_count": null,
   "id": "1a851bdf-e97e-4d89-946e-e8c186af7edf",
   "metadata": {},
   "outputs": [],
   "source": [
    "# Transformar los valores del atributo class de categoricos a numéricos\n",
    "from sklearn.preprocessing import LabelEncoder\n",
    "labelencoder = LabelEncoder()\n",
    "df[\"class\"] = labelencoder.fit_transform(df[\"class\"])\n",
    "df"
   ]
  },
  {
   "cell_type": "code",
   "execution_count": null,
   "id": "0f0413c3-ba71-4231-ba3b-b73f999fb9e3",
   "metadata": {},
   "outputs": [],
   "source": [
    "# Mostrar la correlacion entre los atributos del DataSet\n",
    "\n",
    "corr_matrix = df.corr(numeric_only = True)\n",
    "corr_matrix [\"class\"].sort_values(ascending = False)"
   ]
  },
  {
   "cell_type": "code",
   "execution_count": null,
   "id": "2eb46131-46f9-42ca-904d-39c1cff486f4",
   "metadata": {},
   "outputs": [],
   "source": [
    "# Mostrar la correlación lineal entre todos los atributos del DataSet\n",
    "df.corr(numeric_only = True)"
   ]
  },
  {
   "cell_type": "code",
   "execution_count": null,
   "id": "7bd3c0d6-08ba-441b-af25-a25af540b1de",
   "metadata": {},
   "outputs": [],
   "source": [
    "# Representar graficamente la matriz de correlación\n",
    "corr = df.corr(numeric_only = True)\n",
    "fig, ax = plt.subplots( figsize = (8,8))\n",
    "ax.matshow(corr)\n",
    "plt.xticks(range(len(corr.columns)), corr.columns);\n",
    "plt.yticks(range(len(corr.columns)), corr.columns);"
   ]
  },
  {
   "cell_type": "code",
   "execution_count": null,
   "id": "d6e2a3cc-f6a5-4a33-9daa-cfff4363dbaa",
   "metadata": {},
   "outputs": [],
   "source": [
    "# Representar graficamente las correlaciones \n",
    "from pandas.plotting import scatter_matrix\n",
    "attributes = ['same_srv_rate', 'dst_host_srv_count', 'class', 'dst_host_same_srv_rate']\n",
    "\n",
    "scatter_matrix (df[attributes], figsize=(12, 8))\n",
    "plt.show()"
   ]
  },
  {
   "cell_type": "code",
   "execution_count": null,
   "id": "9adb6377-ebec-4c37-8969-a044f8e1ccdb",
   "metadata": {},
   "outputs": [],
   "source": []
  }
 ],
 "metadata": {
  "kernelspec": {
   "display_name": "Python 3 (ipykernel)",
   "language": "python",
   "name": "python3"
  },
  "language_info": {
   "codemirror_mode": {
    "name": "ipython",
    "version": 3
   },
   "file_extension": ".py",
   "mimetype": "text/x-python",
   "name": "python",
   "nbconvert_exporter": "python",
   "pygments_lexer": "ipython3",
   "version": "3.12.4"
  }
 },
 "nbformat": 4,
 "nbformat_minor": 5
}
