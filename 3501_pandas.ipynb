{
 "cells": [
  {
   "cell_type": "markdown",
   "id": "7650fbce-7100-4733-89bf-a7c6fa8135ee",
   "metadata": {},
   "source": [
    "# INTRODUCCIÓN A PANDAS"
   ]
  },
  {
   "cell_type": "markdown",
   "id": "001796a2-31e3-495f-91ed-b9211fe593a5",
   "metadata": {},
   "source": [
    "[Pandas](https://pandas.pydata.org/docs/) es una biblioteca que proporciona estructuras de datos y herramientas de analisis de datos de alto rendimiento y faciles de usar.\n",
    "* La estructura de datos principal es el DataFrame que puede considerarsecomo una tabla 2D en memoria (como una hoja de calculo, nombre de columna y etiquetas de fila).\n",
    "* Muchas funciones disponibles en Excel estan disponibles mediante programamción, como crear las tablas dinamicas , calcular columnas basadas en otras columnas, trazar graficos, etc.\n",
    "* Proporciona un alto rendimento para manipular (unir, dividir, modificar, etc.) grandes volumenes de datos. "
   ]
  },
  {
   "cell_type": "markdown",
   "id": "3b37eb55-9fab-4730-b8ef-da2a8cfd768e",
   "metadata": {},
   "source": [
    "## Import"
   ]
  },
  {
   "cell_type": "code",
   "execution_count": 1,
   "id": "87d23e31-5155-478b-833d-bd7aaa53eff2",
   "metadata": {},
   "outputs": [],
   "source": [
    "import pandas as pd"
   ]
  },
  {
   "cell_type": "markdown",
   "id": "d9841a98-45d2-4346-b619-62c4995e940d",
   "metadata": {},
   "source": [
    "### Estructuras de datos en pandas"
   ]
  },
  {
   "cell_type": "markdown",
   "id": "e7e41485-a5d6-4686-8416-d7084e4e5935",
   "metadata": {},
   "source": [
    "La biblioteca Pandas, de manera genérica contiene las siguientes estructuras de datos:\n",
    "\n",
    "* **Series**: Array de una dimensión.\n",
    "* **DataFrame**: Se correcponde con una tabla de dos dimensiones\n",
    "* **Panel**: Similar a un diccionario de DataFrames"
   ]
  },
  {
   "cell_type": "code",
   "execution_count": 2,
   "id": "c2df842a-0f6a-4900-9c95-6164afcf87cd",
   "metadata": {},
   "outputs": [
    {
     "name": "stdout",
     "output_type": "stream",
     "text": [
      "0     2\n",
      "1     4\n",
      "2     6\n",
      "3     8\n",
      "4    10\n",
      "dtype: int64\n"
     ]
    }
   ],
   "source": [
    "# Creacion del objeto Series.\n",
    "s = pd.Series([2, 4, 6, 8, 10]) \n",
    "print (s)"
   ]
  },
  {
   "cell_type": "code",
   "execution_count": 3,
   "id": "75112b12-0251-44dd-a217-80fcb54daed2",
   "metadata": {},
   "outputs": [
    {
     "name": "stdout",
     "output_type": "stream",
     "text": [
      "Diana      170\n",
      "Anel       145\n",
      "Jesus      170\n",
      "Jocelin    170\n",
      "dtype: int64\n"
     ]
    }
   ],
   "source": [
    "# Creacion de un objeto series e inicializarlo con un diccionario de Phyton.\n",
    "Altura = {\"Diana\": 170, \"Anel\": 145, \"Jesus\": 170, \"Jocelin\": 170}\n",
    "s = pd.Series(Altura)\n",
    "print(s)"
   ]
  },
  {
   "cell_type": "code",
   "execution_count": 4,
   "id": "5705b0a2-89f6-472d-8bf6-79a60776e2ea",
   "metadata": {},
   "outputs": [
    {
     "name": "stdout",
     "output_type": "stream",
     "text": [
      "Jocelin    170\n",
      "Diana      170\n",
      "dtype: int64\n"
     ]
    }
   ],
   "source": [
    "# Creacion de un objeto Series e inicializarlo con algunos \n",
    "# Elementos de un diccionario de Python\n",
    "Altura = {\"Diana\": 170, \"Anel\": 145, \"Jesus\": 170, \"Jocelin\": 170}\n",
    "s = pd.Series(Altura, index = [\"Jocelin\", \"Diana\"])\n",
    "print(s)"
   ]
  },
  {
   "cell_type": "code",
   "execution_count": 5,
   "id": "dc2500a5-a29d-433c-970a-e4080285dd5c",
   "metadata": {},
   "outputs": [
    {
     "name": "stdout",
     "output_type": "stream",
     "text": [
      "Num1    34\n",
      "Num2    34\n",
      "Num3    34\n",
      "Num4    34\n",
      "dtype: int64\n"
     ]
    }
   ],
   "source": [
    "# Creacion de un objeto Series e inicializarlo con un escalar.\n",
    "s = pd.Series(34, [\"Num1\", \"Num2\", \"Num3\", \"Num4\"])\n",
    "print(s)"
   ]
  },
  {
   "cell_type": "markdown",
   "id": "4ccb0ff7-e376-4946-b244-e9ba9bb9d387",
   "metadata": {},
   "source": [
    "### Acceso a los elementos de un array\n",
    "\n",
    "Cada elemento en un objeto Series tiene un identificador que se denomina **index label**"
   ]
  },
  {
   "cell_type": "code",
   "execution_count": 6,
   "id": "02f4c424-e8d9-488d-9e9e-02fafb5dc279",
   "metadata": {},
   "outputs": [
    {
     "name": "stdout",
     "output_type": "stream",
     "text": [
      "Num1    2\n",
      "Num2    4\n",
      "Num3    6\n",
      "Num4    8\n",
      "dtype: int64\n"
     ]
    }
   ],
   "source": [
    "# Crear un objeto Series\n",
    "s = pd.Series([2, 4, 6, 8], index = [\"Num1\", \"Num2\", \"Num3\", \"Num4\"])\n",
    "print(s)"
   ]
  },
  {
   "cell_type": "code",
   "execution_count": 7,
   "id": "670e1aa3-40ea-4575-ada7-d237d721d348",
   "metadata": {},
   "outputs": [
    {
     "data": {
      "text/plain": [
       "6"
      ]
     },
     "execution_count": 7,
     "metadata": {},
     "output_type": "execute_result"
    }
   ],
   "source": [
    "## Acceder al tercer elemento del objeto\n",
    "s[\"Num3\"]"
   ]
  },
  {
   "cell_type": "code",
   "execution_count": 8,
   "id": "31874e5d-c984-4973-99ad-136ff6e9595c",
   "metadata": {},
   "outputs": [
    {
     "name": "stderr",
     "output_type": "stream",
     "text": [
      "/tmp/ipykernel_17544/2186343123.py:2: FutureWarning: Series.__getitem__ treating keys as positions is deprecated. In a future version, integer keys will always be treated as labels (consistent with DataFrame behavior). To access a value by position, use `ser.iloc[pos]`\n",
      "  s[2]\n"
     ]
    },
    {
     "data": {
      "text/plain": [
       "6"
      ]
     },
     "execution_count": 8,
     "metadata": {},
     "output_type": "execute_result"
    }
   ],
   "source": [
    "# Tambien se puede acceder por posición.\n",
    "s[2]"
   ]
  },
  {
   "cell_type": "code",
   "execution_count": 9,
   "id": "4d2a325d-f720-439d-9c43-003725584e76",
   "metadata": {},
   "outputs": [
    {
     "data": {
      "text/plain": [
       "6"
      ]
     },
     "execution_count": 9,
     "metadata": {},
     "output_type": "execute_result"
    }
   ],
   "source": [
    "# loc es la forma estandar de acceder a un elemento de un objeto Series\n",
    "s.loc[\"Num3\"]"
   ]
  },
  {
   "cell_type": "code",
   "execution_count": 10,
   "id": "73e83af1-ad1f-4323-b3c7-518af8858aaa",
   "metadata": {},
   "outputs": [
    {
     "data": {
      "text/plain": [
       "6"
      ]
     },
     "execution_count": 10,
     "metadata": {},
     "output_type": "execute_result"
    }
   ],
   "source": [
    "# iloc es la forma estandar de acceder a un elemento de un objeto Series por posición.\n",
    "s.iloc[2]"
   ]
  },
  {
   "cell_type": "code",
   "execution_count": 11,
   "id": "35225487-5978-48e7-aca1-5daa63c637d6",
   "metadata": {},
   "outputs": [
    {
     "data": {
      "text/plain": [
       "Num3    6\n",
       "Num4    8\n",
       "dtype: int64"
      ]
     },
     "execution_count": 11,
     "metadata": {},
     "output_type": "execute_result"
    }
   ],
   "source": [
    "# Accediendo al segundo y tercer elemento por posición\n",
    "s.iloc[2:4]"
   ]
  },
  {
   "cell_type": "markdown",
   "id": "b83e7d4c-d8b7-4542-a250-55f36601c093",
   "metadata": {},
   "source": [
    "### Operaciones aritmeticas con series"
   ]
  },
  {
   "cell_type": "code",
   "execution_count": 12,
   "id": "6baafd50-f3a9-45d9-8960-7205baf7922d",
   "metadata": {},
   "outputs": [
    {
     "name": "stdout",
     "output_type": "stream",
     "text": [
      "0     2\n",
      "1     4\n",
      "2     6\n",
      "3     8\n",
      "4    10\n",
      "dtype: int64\n"
     ]
    }
   ],
   "source": [
    "# Crear un objeto Series\n",
    "s = pd.Series([2, 4, 6, 8, 10])\n",
    "print(s)"
   ]
  },
  {
   "cell_type": "code",
   "execution_count": 13,
   "id": "cbe5f8b7-ad35-4c37-98bf-7372b2bcfffe",
   "metadata": {},
   "outputs": [
    {
     "data": {
      "text/plain": [
       "30"
      ]
     },
     "execution_count": 13,
     "metadata": {},
     "output_type": "execute_result"
    }
   ],
   "source": [
    "# Los objetos Series son similares y compatibles con los Arrays de Numpy.\n",
    "import numpy as np\n",
    "# ufunc de Numpy para sumar los elementos.\n",
    "np.sum(s)"
   ]
  },
  {
   "cell_type": "code",
   "execution_count": 14,
   "id": "10355366-c53e-482f-a767-8bedc6833cbc",
   "metadata": {},
   "outputs": [
    {
     "data": {
      "text/plain": [
       "0     4\n",
       "1     8\n",
       "2    12\n",
       "3    16\n",
       "4    20\n",
       "dtype: int64"
      ]
     },
     "execution_count": 14,
     "metadata": {},
     "output_type": "execute_result"
    }
   ],
   "source": [
    "# multiplicacion\n",
    "s *2"
   ]
  },
  {
   "cell_type": "markdown",
   "id": "60899ffb-292e-4f28-9366-6b569b2230cc",
   "metadata": {},
   "source": [
    "### Representacion grafica de un objeto Series"
   ]
  },
  {
   "cell_type": "code",
   "execution_count": 15,
   "id": "6c65d594-a7d8-45a8-9198-f0ec94988429",
   "metadata": {},
   "outputs": [
    {
     "data": {
      "text/plain": [
       "0     4.4\n",
       "1     5.1\n",
       "2     6.1\n",
       "3     6.2\n",
       "4     6.1\n",
       "5     6.1\n",
       "6     5.7\n",
       "7     5.2\n",
       "8     4.7\n",
       "9     4.1\n",
       "10    3.9\n",
       "Name: Temperaturas, dtype: float64"
      ]
     },
     "execution_count": 15,
     "metadata": {},
     "output_type": "execute_result"
    }
   ],
   "source": [
    "# Crear un objeto Series denominado Temperaturas.\n",
    "Temperaturas = [4.4, 5.1, 6.1, 6.2, 6.1, 6.1, 5.7, 5.2, 4.7, 4.1, 3.9]\n",
    "s = pd.Series(Temperaturas, name=\"Temperaturas\")\n",
    "s"
   ]
  },
  {
   "cell_type": "code",
   "execution_count": 16,
   "id": "368489cb-c883-4ae8-bb63-4aa02b7c9567",
   "metadata": {},
   "outputs": [
    {
     "data": {
      "image/png": "[encoded data removed]",
      "text/plain": [
       "<Figure size 640x480 with 1 Axes>"
      ]
     },
     "metadata": {},
     "output_type": "display_data"
    }
   ],
   "source": [
    "# Representacion grafica del objeto series.\n",
    "%matplotlib inline\n",
    "import matplotlib.pyplot as plt\n",
    "\n",
    "s.plot()\n",
    "plt.show()"
   ]
  },
  {
   "cell_type": "markdown",
   "id": "0432fc07-12d0-43a7-a353-62fef9bf50de",
   "metadata": {},
   "source": [
    "## Creación de un objeto DataFrame"
   ]
  },
  {
   "cell_type": "code",
   "execution_count": 17,
   "id": "7218a76e-8be9-4ce3-b17e-b6db3db608da",
   "metadata": {},
   "outputs": [
    {
     "data": {
      "text/html": [
       "<div>\n",
       "<style scoped>\n",
       "    .dataframe tbody tr th:only-of-type {\n",
       "        vertical-align: middle;\n",
       "    }\n",
       "\n",
       "    .dataframe tbody tr th {\n",
       "        vertical-align: top;\n",
       "    }\n",
       "\n",
       "    .dataframe thead th {\n",
       "        text-align: right;\n",
       "    }\n",
       "</style>\n",
       "<table border=\"1\" class=\"dataframe\">\n",
       "  <thead>\n",
       "    <tr style=\"text-align: right;\">\n",
       "      <th></th>\n",
       "      <th>Peso</th>\n",
       "      <th>Altura</th>\n",
       "      <th>Mascotas</th>\n",
       "    </tr>\n",
       "  </thead>\n",
       "  <tbody>\n",
       "    <tr>\n",
       "      <th>Anel</th>\n",
       "      <td>60</td>\n",
       "      <td>145</td>\n",
       "      <td>2.0</td>\n",
       "    </tr>\n",
       "    <tr>\n",
       "      <th>Chucho</th>\n",
       "      <td>74</td>\n",
       "      <td>170</td>\n",
       "      <td>NaN</td>\n",
       "    </tr>\n",
       "    <tr>\n",
       "      <th>Emilio</th>\n",
       "      <td>72</td>\n",
       "      <td>169</td>\n",
       "      <td>NaN</td>\n",
       "    </tr>\n",
       "    <tr>\n",
       "      <th>Jocelin</th>\n",
       "      <td>73</td>\n",
       "      <td>170</td>\n",
       "      <td>9.0</td>\n",
       "    </tr>\n",
       "  </tbody>\n",
       "</table>\n",
       "</div>"
      ],
      "text/plain": [
       "         Peso  Altura  Mascotas\n",
       "Anel       60     145       2.0\n",
       "Chucho     74     170       NaN\n",
       "Emilio     72     169       NaN\n",
       "Jocelin    73     170       9.0"
      ]
     },
     "execution_count": 17,
     "metadata": {},
     "output_type": "execute_result"
    }
   ],
   "source": [
    "# Creación de un DataFrame e inicializarlo con un diccionario de objetos Series.\n",
    "Personas = {\n",
    "    \"Peso\": pd.Series ([72, 60, 74, 73], [\"Emilio\", \"Anel\", \"Chucho\", \"Jocelin\"]), \n",
    "    \"Altura\": pd.Series({\"Emilio\": 169, \"Anel\":145, \"Chucho\": 170, \"Jocelin\": 170}),\n",
    "    \"Mascotas\": pd.Series([2, 9], [\"Anel\", \"Jocelin\"])\n",
    "}\n",
    "\n",
    "df = pd.DataFrame(Personas)\n",
    "df"
   ]
  },
  {
   "cell_type": "markdown",
   "id": "4acb3e14-d85b-4b5f-8dbb-306a3dec1177",
   "metadata": {},
   "source": [
    "Es posible forzar el DataFrame a que presente determinadas columanas y en orden determinado"
   ]
  },
  {
   "cell_type": "code",
   "execution_count": 18,
   "id": "70c989d3-46e3-408e-91bb-7ea9abb259ba",
   "metadata": {},
   "outputs": [
    {
     "data": {
      "text/html": [
       "<div>\n",
       "<style scoped>\n",
       "    .dataframe tbody tr th:only-of-type {\n",
       "        vertical-align: middle;\n",
       "    }\n",
       "\n",
       "    .dataframe tbody tr th {\n",
       "        vertical-align: top;\n",
       "    }\n",
       "\n",
       "    .dataframe thead th {\n",
       "        text-align: right;\n",
       "    }\n",
       "</style>\n",
       "<table border=\"1\" class=\"dataframe\">\n",
       "  <thead>\n",
       "    <tr style=\"text-align: right;\">\n",
       "      <th></th>\n",
       "      <th>Altura</th>\n",
       "      <th>Peso</th>\n",
       "    </tr>\n",
       "  </thead>\n",
       "  <tbody>\n",
       "    <tr>\n",
       "      <th>Chucho</th>\n",
       "      <td>170</td>\n",
       "      <td>74</td>\n",
       "    </tr>\n",
       "    <tr>\n",
       "      <th>Emilio</th>\n",
       "      <td>169</td>\n",
       "      <td>72</td>\n",
       "    </tr>\n",
       "  </tbody>\n",
       "</table>\n",
       "</div>"
      ],
      "text/plain": [
       "        Altura  Peso\n",
       "Chucho     170    74\n",
       "Emilio     169    72"
      ]
     },
     "execution_count": 18,
     "metadata": {},
     "output_type": "execute_result"
    }
   ],
   "source": [
    "# Creación de un DataFrame e inicializarlo con un diccionario de objetos Series.\n",
    "Personas = {\n",
    "    \"Peso\": pd.Series ([72, 60, 74, 73], [\"Emilio\", \"Anel\", \"Chucho\", \"Jocelin\"]), \n",
    "    \"Altura\": pd.Series({\"Emilio\": 169, \"Anel\":145, \"Chucho\": 170, \"Jocelin\": 170}),\n",
    "    \"Mascotas\": pd.Series([2, 9], [\"Anel\", \"Jocelin\"])\n",
    "}\n",
    "\n",
    "df = pd.DataFrame(\n",
    "    Personas,\n",
    "    columns = [\"Altura\", \"Peso\"],\n",
    "    index = [\"Chucho\", \"Emilio\"])\n",
    "df"
   ]
  },
  {
   "cell_type": "code",
   "execution_count": 19,
   "id": "74a0053f-ca3a-435e-a9c7-4dae60d712e7",
   "metadata": {},
   "outputs": [
    {
     "data": {
      "text/html": [
       "<div>\n",
       "<style scoped>\n",
       "    .dataframe tbody tr th:only-of-type {\n",
       "        vertical-align: middle;\n",
       "    }\n",
       "\n",
       "    .dataframe tbody tr th {\n",
       "        vertical-align: top;\n",
       "    }\n",
       "\n",
       "    .dataframe thead th {\n",
       "        text-align: right;\n",
       "    }\n",
       "</style>\n",
       "<table border=\"1\" class=\"dataframe\">\n",
       "  <thead>\n",
       "    <tr style=\"text-align: right;\">\n",
       "      <th></th>\n",
       "      <th>Altura</th>\n",
       "      <th>Mascotas</th>\n",
       "      <th>Peso</th>\n",
       "    </tr>\n",
       "  </thead>\n",
       "  <tbody>\n",
       "    <tr>\n",
       "      <th>Emilio</th>\n",
       "      <td>169</td>\n",
       "      <td>3</td>\n",
       "      <td>72</td>\n",
       "    </tr>\n",
       "    <tr>\n",
       "      <th>Anel</th>\n",
       "      <td>145</td>\n",
       "      <td>2</td>\n",
       "      <td>60</td>\n",
       "    </tr>\n",
       "    <tr>\n",
       "      <th>Chucho</th>\n",
       "      <td>170</td>\n",
       "      <td>1</td>\n",
       "      <td>74</td>\n",
       "    </tr>\n",
       "  </tbody>\n",
       "</table>\n",
       "</div>"
      ],
      "text/plain": [
       "        Altura  Mascotas  Peso\n",
       "Emilio     169         3    72\n",
       "Anel       145         2    60\n",
       "Chucho     170         1    74"
      ]
     },
     "execution_count": 19,
     "metadata": {},
     "output_type": "execute_result"
    }
   ],
   "source": [
    "# Creacion de un DataFrame e inicializarlo con una lista de listas de Python\n",
    "# Nota: Deben especificarse las columnas de indices por separado.\n",
    "Valores = [\n",
    "    [169, 3, 72],\n",
    "    [145, 2, 60],\n",
    "    [170, 1, 74]\n",
    "]\n",
    "\n",
    "df = pd.DataFrame(\n",
    "    Valores,\n",
    "    columns = [\"Altura\", \"Mascotas\", \"Peso\"],\n",
    "    index = [\"Emilio\", \"Anel\", \"Chucho\"]\n",
    ")\n",
    "\n",
    "df"
   ]
  },
  {
   "cell_type": "code",
   "execution_count": 20,
   "id": "31d41228-ac3b-4486-909d-34a9537c4f79",
   "metadata": {},
   "outputs": [
    {
     "data": {
      "text/html": [
       "<div>\n",
       "<style scoped>\n",
       "    .dataframe tbody tr th:only-of-type {\n",
       "        vertical-align: middle;\n",
       "    }\n",
       "\n",
       "    .dataframe tbody tr th {\n",
       "        vertical-align: top;\n",
       "    }\n",
       "\n",
       "    .dataframe thead th {\n",
       "        text-align: right;\n",
       "    }\n",
       "</style>\n",
       "<table border=\"1\" class=\"dataframe\">\n",
       "  <thead>\n",
       "    <tr style=\"text-align: right;\">\n",
       "      <th></th>\n",
       "      <th>Peso</th>\n",
       "      <th>Altura</th>\n",
       "    </tr>\n",
       "  </thead>\n",
       "  <tbody>\n",
       "    <tr>\n",
       "      <th>Emilio</th>\n",
       "      <td>72</td>\n",
       "      <td>169</td>\n",
       "    </tr>\n",
       "    <tr>\n",
       "      <th>Anel</th>\n",
       "      <td>60</td>\n",
       "      <td>145</td>\n",
       "    </tr>\n",
       "    <tr>\n",
       "      <th>Chucho</th>\n",
       "      <td>74</td>\n",
       "      <td>170</td>\n",
       "    </tr>\n",
       "    <tr>\n",
       "      <th>Jocelin</th>\n",
       "      <td>73</td>\n",
       "      <td>170</td>\n",
       "    </tr>\n",
       "  </tbody>\n",
       "</table>\n",
       "</div>"
      ],
      "text/plain": [
       "         Peso  Altura\n",
       "Emilio     72     169\n",
       "Anel       60     145\n",
       "Chucho     74     170\n",
       "Jocelin    73     170"
      ]
     },
     "execution_count": 20,
     "metadata": {},
     "output_type": "execute_result"
    }
   ],
   "source": [
    "# Creación de un DataFrame e inicializarlo con un diccionario en Python.\n",
    "Personas = {\n",
    "    \"Peso\": {\"Emilio\": 72, \"Anel\":60, \"Chucho\": 74, \"Jocelin\": 73}, \n",
    "    \"Altura\": {\"Emilio\": 169, \"Anel\":145, \"Chucho\": 170, \"Jocelin\": 170}\n",
    "}\n",
    "df= pd.DataFrame(Personas)\n",
    "df"
   ]
  },
  {
   "cell_type": "markdown",
   "id": "279d6380-0d4b-4614-a5e5-4c5946fc88ae",
   "metadata": {},
   "source": [
    "# Acceso a los elementos de un DataFrame"
   ]
  },
  {
   "cell_type": "code",
   "execution_count": 21,
   "id": "cb5da3ed-37ba-4627-8cb6-352e14ac3939",
   "metadata": {},
   "outputs": [
    {
     "data": {
      "text/html": [
       "<div>\n",
       "<style scoped>\n",
       "    .dataframe tbody tr th:only-of-type {\n",
       "        vertical-align: middle;\n",
       "    }\n",
       "\n",
       "    .dataframe tbody tr th {\n",
       "        vertical-align: top;\n",
       "    }\n",
       "\n",
       "    .dataframe thead th {\n",
       "        text-align: right;\n",
       "    }\n",
       "</style>\n",
       "<table border=\"1\" class=\"dataframe\">\n",
       "  <thead>\n",
       "    <tr style=\"text-align: right;\">\n",
       "      <th></th>\n",
       "      <th>Peso</th>\n",
       "      <th>Altura</th>\n",
       "      <th>Mascotas</th>\n",
       "    </tr>\n",
       "  </thead>\n",
       "  <tbody>\n",
       "    <tr>\n",
       "      <th>Anel</th>\n",
       "      <td>60</td>\n",
       "      <td>145</td>\n",
       "      <td>2.0</td>\n",
       "    </tr>\n",
       "    <tr>\n",
       "      <th>Chucho</th>\n",
       "      <td>74</td>\n",
       "      <td>170</td>\n",
       "      <td>NaN</td>\n",
       "    </tr>\n",
       "    <tr>\n",
       "      <th>Emilio</th>\n",
       "      <td>72</td>\n",
       "      <td>169</td>\n",
       "      <td>NaN</td>\n",
       "    </tr>\n",
       "    <tr>\n",
       "      <th>Jocelin</th>\n",
       "      <td>73</td>\n",
       "      <td>170</td>\n",
       "      <td>9.0</td>\n",
       "    </tr>\n",
       "  </tbody>\n",
       "</table>\n",
       "</div>"
      ],
      "text/plain": [
       "         Peso  Altura  Mascotas\n",
       "Anel       60     145       2.0\n",
       "Chucho     74     170       NaN\n",
       "Emilio     72     169       NaN\n",
       "Jocelin    73     170       9.0"
      ]
     },
     "execution_count": 21,
     "metadata": {},
     "output_type": "execute_result"
    }
   ],
   "source": [
    "#Creación de un DataFrame e inicializarlo con un diccionrio de python\n",
    "Personas = {\n",
    "\"Peso\": pd.Series ([72, 60, 74, 73], [\"Emilio\", \"Anel\", \"Chucho\", \"Jocelin\"]), \n",
    "    \"Altura\": pd.Series({\"Emilio\": 169, \"Anel\":145, \"Chucho\": 170, \"Jocelin\": 170}),\n",
    "    \"Mascotas\": pd.Series([2, 9], [\"Anel\", \"Jocelin\"])\n",
    "}\n",
    "\n",
    "df= pd.DataFrame (Personas)\n",
    "df"
   ]
  },
  {
   "cell_type": "markdown",
   "id": "c67ea2b2-61f7-4ca8-b496-794552bada19",
   "metadata": {},
   "source": [
    "## Acceso a los elementos de las columnas del DataFrame"
   ]
  },
  {
   "cell_type": "code",
   "execution_count": 22,
   "id": "08bd557d-d3d7-4804-a31f-09a256df6734",
   "metadata": {},
   "outputs": [
    {
     "data": {
      "text/plain": [
       "Anel       60\n",
       "Chucho     74\n",
       "Emilio     72\n",
       "Jocelin    73\n",
       "Name: Peso, dtype: int64"
      ]
     },
     "execution_count": 22,
     "metadata": {},
     "output_type": "execute_result"
    }
   ],
   "source": [
    "df [\"Peso\"]"
   ]
  },
  {
   "cell_type": "code",
   "execution_count": 23,
   "id": "e961af35-b2be-4b56-8da4-bb89c5a0aba7",
   "metadata": {},
   "outputs": [
    {
     "data": {
      "text/html": [
       "<div>\n",
       "<style scoped>\n",
       "    .dataframe tbody tr th:only-of-type {\n",
       "        vertical-align: middle;\n",
       "    }\n",
       "\n",
       "    .dataframe tbody tr th {\n",
       "        vertical-align: top;\n",
       "    }\n",
       "\n",
       "    .dataframe thead th {\n",
       "        text-align: right;\n",
       "    }\n",
       "</style>\n",
       "<table border=\"1\" class=\"dataframe\">\n",
       "  <thead>\n",
       "    <tr style=\"text-align: right;\">\n",
       "      <th></th>\n",
       "      <th>Peso</th>\n",
       "      <th>Altura</th>\n",
       "    </tr>\n",
       "  </thead>\n",
       "  <tbody>\n",
       "    <tr>\n",
       "      <th>Anel</th>\n",
       "      <td>60</td>\n",
       "      <td>145</td>\n",
       "    </tr>\n",
       "    <tr>\n",
       "      <th>Chucho</th>\n",
       "      <td>74</td>\n",
       "      <td>170</td>\n",
       "    </tr>\n",
       "    <tr>\n",
       "      <th>Emilio</th>\n",
       "      <td>72</td>\n",
       "      <td>169</td>\n",
       "    </tr>\n",
       "    <tr>\n",
       "      <th>Jocelin</th>\n",
       "      <td>73</td>\n",
       "      <td>170</td>\n",
       "    </tr>\n",
       "  </tbody>\n",
       "</table>\n",
       "</div>"
      ],
      "text/plain": [
       "         Peso  Altura\n",
       "Anel       60     145\n",
       "Chucho     74     170\n",
       "Emilio     72     169\n",
       "Jocelin    73     170"
      ]
     },
     "execution_count": 23,
     "metadata": {},
     "output_type": "execute_result"
    }
   ],
   "source": [
    "df[[\"Peso\", \"Altura\"]]"
   ]
  },
  {
   "cell_type": "code",
   "execution_count": 24,
   "id": "accccb08-cffd-44bb-b911-c2344f6f831c",
   "metadata": {},
   "outputs": [
    {
     "data": {
      "text/plain": [
       "Anel       False\n",
       "Chucho      True\n",
       "Emilio     False\n",
       "Jocelin    False\n",
       "Name: Peso, dtype: bool"
      ]
     },
     "execution_count": 24,
     "metadata": {},
     "output_type": "execute_result"
    }
   ],
   "source": [
    "# Pueden combinarse los elementos anteriores con expresiones booleanas.\n",
    "df[\"Peso\"] > 73"
   ]
  },
  {
   "cell_type": "code",
   "execution_count": 25,
   "id": "0362bca9-6f4a-4d7d-a194-101cb2eb18b3",
   "metadata": {},
   "outputs": [
    {
     "data": {
      "text/html": [
       "<div>\n",
       "<style scoped>\n",
       "    .dataframe tbody tr th:only-of-type {\n",
       "        vertical-align: middle;\n",
       "    }\n",
       "\n",
       "    .dataframe tbody tr th {\n",
       "        vertical-align: top;\n",
       "    }\n",
       "\n",
       "    .dataframe thead th {\n",
       "        text-align: right;\n",
       "    }\n",
       "</style>\n",
       "<table border=\"1\" class=\"dataframe\">\n",
       "  <thead>\n",
       "    <tr style=\"text-align: right;\">\n",
       "      <th></th>\n",
       "      <th>Peso</th>\n",
       "      <th>Altura</th>\n",
       "      <th>Mascotas</th>\n",
       "    </tr>\n",
       "  </thead>\n",
       "  <tbody>\n",
       "    <tr>\n",
       "      <th>Chucho</th>\n",
       "      <td>74</td>\n",
       "      <td>170</td>\n",
       "      <td>NaN</td>\n",
       "    </tr>\n",
       "  </tbody>\n",
       "</table>\n",
       "</div>"
      ],
      "text/plain": [
       "        Peso  Altura  Mascotas\n",
       "Chucho    74     170       NaN"
      ]
     },
     "execution_count": 25,
     "metadata": {},
     "output_type": "execute_result"
    }
   ],
   "source": [
    "# Pueden convinarse los metodos anteriores con expresiones booleanas y mostrar en DataFrame\n",
    "\n",
    "df[df[\"Peso\"]> 73]"
   ]
  },
  {
   "cell_type": "markdown",
   "id": "7a6f5135-f330-4377-9022-8f9ff25cba26",
   "metadata": {},
   "source": [
    "## Accediendo a los elementos de las filas del DataFrame"
   ]
  },
  {
   "cell_type": "code",
   "execution_count": 26,
   "id": "1644aac0-6057-46f8-ba32-f6f33da0e2ed",
   "metadata": {},
   "outputs": [
    {
     "data": {
      "text/html": [
       "<div>\n",
       "<style scoped>\n",
       "    .dataframe tbody tr th:only-of-type {\n",
       "        vertical-align: middle;\n",
       "    }\n",
       "\n",
       "    .dataframe tbody tr th {\n",
       "        vertical-align: top;\n",
       "    }\n",
       "\n",
       "    .dataframe thead th {\n",
       "        text-align: right;\n",
       "    }\n",
       "</style>\n",
       "<table border=\"1\" class=\"dataframe\">\n",
       "  <thead>\n",
       "    <tr style=\"text-align: right;\">\n",
       "      <th></th>\n",
       "      <th>Peso</th>\n",
       "      <th>Altura</th>\n",
       "      <th>Mascotas</th>\n",
       "    </tr>\n",
       "  </thead>\n",
       "  <tbody>\n",
       "    <tr>\n",
       "      <th>Anel</th>\n",
       "      <td>60</td>\n",
       "      <td>145</td>\n",
       "      <td>2.0</td>\n",
       "    </tr>\n",
       "    <tr>\n",
       "      <th>Chucho</th>\n",
       "      <td>74</td>\n",
       "      <td>170</td>\n",
       "      <td>NaN</td>\n",
       "    </tr>\n",
       "    <tr>\n",
       "      <th>Emilio</th>\n",
       "      <td>72</td>\n",
       "      <td>169</td>\n",
       "      <td>NaN</td>\n",
       "    </tr>\n",
       "    <tr>\n",
       "      <th>Jocelin</th>\n",
       "      <td>73</td>\n",
       "      <td>170</td>\n",
       "      <td>9.0</td>\n",
       "    </tr>\n",
       "  </tbody>\n",
       "</table>\n",
       "</div>"
      ],
      "text/plain": [
       "         Peso  Altura  Mascotas\n",
       "Anel       60     145       2.0\n",
       "Chucho     74     170       NaN\n",
       "Emilio     72     169       NaN\n",
       "Jocelin    73     170       9.0"
      ]
     },
     "execution_count": 26,
     "metadata": {},
     "output_type": "execute_result"
    }
   ],
   "source": [
    "# Mostramos el DataFrame\n",
    "df"
   ]
  },
  {
   "cell_type": "code",
   "execution_count": 27,
   "id": "c4748f3b-ad0e-4aa9-be1a-98e022485f50",
   "metadata": {},
   "outputs": [
    {
     "data": {
      "text/plain": [
       "Peso         72.0\n",
       "Altura      169.0\n",
       "Mascotas      NaN\n",
       "Name: Emilio, dtype: float64"
      ]
     },
     "execution_count": 27,
     "metadata": {},
     "output_type": "execute_result"
    }
   ],
   "source": [
    "df.loc[\"Emilio\"]"
   ]
  },
  {
   "cell_type": "code",
   "execution_count": 28,
   "id": "d8e838c9-8d41-425b-9561-be854857805d",
   "metadata": {},
   "outputs": [
    {
     "data": {
      "text/html": [
       "<div>\n",
       "<style scoped>\n",
       "    .dataframe tbody tr th:only-of-type {\n",
       "        vertical-align: middle;\n",
       "    }\n",
       "\n",
       "    .dataframe tbody tr th {\n",
       "        vertical-align: top;\n",
       "    }\n",
       "\n",
       "    .dataframe thead th {\n",
       "        text-align: right;\n",
       "    }\n",
       "</style>\n",
       "<table border=\"1\" class=\"dataframe\">\n",
       "  <thead>\n",
       "    <tr style=\"text-align: right;\">\n",
       "      <th></th>\n",
       "      <th>Peso</th>\n",
       "      <th>Altura</th>\n",
       "      <th>Mascotas</th>\n",
       "    </tr>\n",
       "  </thead>\n",
       "  <tbody>\n",
       "    <tr>\n",
       "      <th>Chucho</th>\n",
       "      <td>74</td>\n",
       "      <td>170</td>\n",
       "      <td>NaN</td>\n",
       "    </tr>\n",
       "    <tr>\n",
       "      <th>Emilio</th>\n",
       "      <td>72</td>\n",
       "      <td>169</td>\n",
       "      <td>NaN</td>\n",
       "    </tr>\n",
       "  </tbody>\n",
       "</table>\n",
       "</div>"
      ],
      "text/plain": [
       "        Peso  Altura  Mascotas\n",
       "Chucho    74     170       NaN\n",
       "Emilio    72     169       NaN"
      ]
     },
     "execution_count": 28,
     "metadata": {},
     "output_type": "execute_result"
    }
   ],
   "source": [
    "df.iloc[1:3]"
   ]
  },
  {
   "cell_type": "markdown",
   "id": "90f21d01-7ad4-4cea-9f74-9cc7e22e8024",
   "metadata": {},
   "source": [
    "## Consulta avanzada de los elementos de un DataFrame"
   ]
  },
  {
   "cell_type": "code",
   "execution_count": 29,
   "id": "d8db68dd-e975-41ca-8e90-857ace03d8b5",
   "metadata": {},
   "outputs": [
    {
     "data": {
      "text/html": [
       "<div>\n",
       "<style scoped>\n",
       "    .dataframe tbody tr th:only-of-type {\n",
       "        vertical-align: middle;\n",
       "    }\n",
       "\n",
       "    .dataframe tbody tr th {\n",
       "        vertical-align: top;\n",
       "    }\n",
       "\n",
       "    .dataframe thead th {\n",
       "        text-align: right;\n",
       "    }\n",
       "</style>\n",
       "<table border=\"1\" class=\"dataframe\">\n",
       "  <thead>\n",
       "    <tr style=\"text-align: right;\">\n",
       "      <th></th>\n",
       "      <th>Peso</th>\n",
       "      <th>Altura</th>\n",
       "      <th>Mascotas</th>\n",
       "    </tr>\n",
       "  </thead>\n",
       "  <tbody>\n",
       "    <tr>\n",
       "      <th>Anel</th>\n",
       "      <td>60</td>\n",
       "      <td>145</td>\n",
       "      <td>2.0</td>\n",
       "    </tr>\n",
       "    <tr>\n",
       "      <th>Chucho</th>\n",
       "      <td>74</td>\n",
       "      <td>170</td>\n",
       "      <td>NaN</td>\n",
       "    </tr>\n",
       "    <tr>\n",
       "      <th>Emilio</th>\n",
       "      <td>72</td>\n",
       "      <td>169</td>\n",
       "      <td>NaN</td>\n",
       "    </tr>\n",
       "    <tr>\n",
       "      <th>Jocelin</th>\n",
       "      <td>73</td>\n",
       "      <td>170</td>\n",
       "      <td>9.0</td>\n",
       "    </tr>\n",
       "  </tbody>\n",
       "</table>\n",
       "</div>"
      ],
      "text/plain": [
       "         Peso  Altura  Mascotas\n",
       "Anel       60     145       2.0\n",
       "Chucho     74     170       NaN\n",
       "Emilio     72     169       NaN\n",
       "Jocelin    73     170       9.0"
      ]
     },
     "execution_count": 29,
     "metadata": {},
     "output_type": "execute_result"
    }
   ],
   "source": [
    "# Mostrar el DataFrame\n",
    "df"
   ]
  },
  {
   "cell_type": "code",
   "execution_count": 30,
   "id": "9bd20829-b518-493a-a3c6-5c9d82b8e8ea",
   "metadata": {},
   "outputs": [
    {
     "data": {
      "text/html": [
       "<div>\n",
       "<style scoped>\n",
       "    .dataframe tbody tr th:only-of-type {\n",
       "        vertical-align: middle;\n",
       "    }\n",
       "\n",
       "    .dataframe tbody tr th {\n",
       "        vertical-align: top;\n",
       "    }\n",
       "\n",
       "    .dataframe thead th {\n",
       "        text-align: right;\n",
       "    }\n",
       "</style>\n",
       "<table border=\"1\" class=\"dataframe\">\n",
       "  <thead>\n",
       "    <tr style=\"text-align: right;\">\n",
       "      <th></th>\n",
       "      <th>Peso</th>\n",
       "      <th>Altura</th>\n",
       "      <th>Mascotas</th>\n",
       "    </tr>\n",
       "  </thead>\n",
       "  <tbody>\n",
       "    <tr>\n",
       "      <th>Chucho</th>\n",
       "      <td>74</td>\n",
       "      <td>170</td>\n",
       "      <td>NaN</td>\n",
       "    </tr>\n",
       "    <tr>\n",
       "      <th>Jocelin</th>\n",
       "      <td>73</td>\n",
       "      <td>170</td>\n",
       "      <td>9.0</td>\n",
       "    </tr>\n",
       "  </tbody>\n",
       "</table>\n",
       "</div>"
      ],
      "text/plain": [
       "         Peso  Altura  Mascotas\n",
       "Chucho     74     170       NaN\n",
       "Jocelin    73     170       9.0"
      ]
     },
     "execution_count": 30,
     "metadata": {},
     "output_type": "execute_result"
    }
   ],
   "source": [
    "# Query es para consultas avanzadas\n",
    "df.query(\"Altura >= 170 and Peso >= 73\")"
   ]
  },
  {
   "cell_type": "markdown",
   "id": "b0b98049-9a29-4a8c-ab95-5df551c1dcf3",
   "metadata": {},
   "source": [
    "## Copiar un DataFrame"
   ]
  },
  {
   "cell_type": "code",
   "execution_count": 31,
   "id": "97047d4b-a3af-4d20-9985-42b1c524b5e4",
   "metadata": {},
   "outputs": [
    {
     "data": {
      "text/html": [
       "<div>\n",
       "<style scoped>\n",
       "    .dataframe tbody tr th:only-of-type {\n",
       "        vertical-align: middle;\n",
       "    }\n",
       "\n",
       "    .dataframe tbody tr th {\n",
       "        vertical-align: top;\n",
       "    }\n",
       "\n",
       "    .dataframe thead th {\n",
       "        text-align: right;\n",
       "    }\n",
       "</style>\n",
       "<table border=\"1\" class=\"dataframe\">\n",
       "  <thead>\n",
       "    <tr style=\"text-align: right;\">\n",
       "      <th></th>\n",
       "      <th>Peso</th>\n",
       "      <th>Altura</th>\n",
       "      <th>Mascotas</th>\n",
       "    </tr>\n",
       "  </thead>\n",
       "  <tbody>\n",
       "    <tr>\n",
       "      <th>Anel</th>\n",
       "      <td>60</td>\n",
       "      <td>145</td>\n",
       "      <td>2.0</td>\n",
       "    </tr>\n",
       "    <tr>\n",
       "      <th>Chucho</th>\n",
       "      <td>74</td>\n",
       "      <td>170</td>\n",
       "      <td>NaN</td>\n",
       "    </tr>\n",
       "    <tr>\n",
       "      <th>Emilio</th>\n",
       "      <td>72</td>\n",
       "      <td>169</td>\n",
       "      <td>NaN</td>\n",
       "    </tr>\n",
       "    <tr>\n",
       "      <th>Jocelin</th>\n",
       "      <td>73</td>\n",
       "      <td>170</td>\n",
       "      <td>9.0</td>\n",
       "    </tr>\n",
       "  </tbody>\n",
       "</table>\n",
       "</div>"
      ],
      "text/plain": [
       "         Peso  Altura  Mascotas\n",
       "Anel       60     145       2.0\n",
       "Chucho     74     170       NaN\n",
       "Emilio     72     169       NaN\n",
       "Jocelin    73     170       9.0"
      ]
     },
     "execution_count": 31,
     "metadata": {},
     "output_type": "execute_result"
    }
   ],
   "source": [
    "# Crear un DataFrame e inicializarlo con un diccionario de objetos Series. \n",
    "Personas = {\n",
    "\"Peso\": pd.Series ([72, 60, 74, 73], [\"Emilio\", \"Anel\", \"Chucho\", \"Jocelin\"]), \n",
    "    \"Altura\": pd.Series({\"Emilio\": 169, \"Anel\":145, \"Chucho\": 170, \"Jocelin\": 170}),\n",
    "    \"Mascotas\": pd.Series([2, 9], [\"Anel\", \"Jocelin\"])\n",
    "}\n",
    "\n",
    "df= pd.DataFrame(Personas)\n",
    "df"
   ]
  },
  {
   "cell_type": "code",
   "execution_count": 32,
   "id": "ae3e5989-251a-40f2-bdda-86ed6c1d4993",
   "metadata": {},
   "outputs": [],
   "source": [
    "# Copia del DataFrame df en df_copy.\n",
    "# Nota: Al modificar el elemento del df_copy no se modifica df.\n",
    "df_copy= df.copy()"
   ]
  },
  {
   "cell_type": "markdown",
   "id": "965771d3-27bd-42f2-88f7-d1e52b05965f",
   "metadata": {},
   "source": [
    "## Modificacion de un DataFrame"
   ]
  },
  {
   "cell_type": "code",
   "execution_count": 33,
   "id": "337f6fb5-a53c-405f-ab51-ec82e37b98e4",
   "metadata": {},
   "outputs": [
    {
     "data": {
      "text/html": [
       "<div>\n",
       "<style scoped>\n",
       "    .dataframe tbody tr th:only-of-type {\n",
       "        vertical-align: middle;\n",
       "    }\n",
       "\n",
       "    .dataframe tbody tr th {\n",
       "        vertical-align: top;\n",
       "    }\n",
       "\n",
       "    .dataframe thead th {\n",
       "        text-align: right;\n",
       "    }\n",
       "</style>\n",
       "<table border=\"1\" class=\"dataframe\">\n",
       "  <thead>\n",
       "    <tr style=\"text-align: right;\">\n",
       "      <th></th>\n",
       "      <th>Peso</th>\n",
       "      <th>Altura</th>\n",
       "      <th>Mascotas</th>\n",
       "      <th>Anio_Nac</th>\n",
       "    </tr>\n",
       "  </thead>\n",
       "  <tbody>\n",
       "    <tr>\n",
       "      <th>Anel</th>\n",
       "      <td>60</td>\n",
       "      <td>145</td>\n",
       "      <td>2.0</td>\n",
       "      <td>2004</td>\n",
       "    </tr>\n",
       "    <tr>\n",
       "      <th>Chucho</th>\n",
       "      <td>74</td>\n",
       "      <td>170</td>\n",
       "      <td>NaN</td>\n",
       "      <td>2004</td>\n",
       "    </tr>\n",
       "    <tr>\n",
       "      <th>Emilio</th>\n",
       "      <td>72</td>\n",
       "      <td>169</td>\n",
       "      <td>NaN</td>\n",
       "      <td>2004</td>\n",
       "    </tr>\n",
       "    <tr>\n",
       "      <th>Jocelin</th>\n",
       "      <td>73</td>\n",
       "      <td>170</td>\n",
       "      <td>9.0</td>\n",
       "      <td>2004</td>\n",
       "    </tr>\n",
       "  </tbody>\n",
       "</table>\n",
       "</div>"
      ],
      "text/plain": [
       "         Peso  Altura  Mascotas  Anio_Nac\n",
       "Anel       60     145       2.0      2004\n",
       "Chucho     74     170       NaN      2004\n",
       "Emilio     72     169       NaN      2004\n",
       "Jocelin    73     170       9.0      2004"
      ]
     },
     "execution_count": 33,
     "metadata": {},
     "output_type": "execute_result"
    }
   ],
   "source": [
    "# Añadir una nueva columna al DataFrame\n",
    "df[\"Anio_Nac\"] = [2004, 2004, 2004, 2004]\n",
    "df"
   ]
  },
  {
   "cell_type": "code",
   "execution_count": 34,
   "id": "999bf1a4-a37c-4ce7-b99d-f4a734fa2ada",
   "metadata": {},
   "outputs": [
    {
     "data": {
      "text/html": [
       "<div>\n",
       "<style scoped>\n",
       "    .dataframe tbody tr th:only-of-type {\n",
       "        vertical-align: middle;\n",
       "    }\n",
       "\n",
       "    .dataframe tbody tr th {\n",
       "        vertical-align: top;\n",
       "    }\n",
       "\n",
       "    .dataframe thead th {\n",
       "        text-align: right;\n",
       "    }\n",
       "</style>\n",
       "<table border=\"1\" class=\"dataframe\">\n",
       "  <thead>\n",
       "    <tr style=\"text-align: right;\">\n",
       "      <th></th>\n",
       "      <th>Peso</th>\n",
       "      <th>Altura</th>\n",
       "      <th>Mascotas</th>\n",
       "      <th>Anio_Nac</th>\n",
       "      <th>Edad</th>\n",
       "    </tr>\n",
       "  </thead>\n",
       "  <tbody>\n",
       "    <tr>\n",
       "      <th>Anel</th>\n",
       "      <td>60</td>\n",
       "      <td>145</td>\n",
       "      <td>2.0</td>\n",
       "      <td>2004</td>\n",
       "      <td>20</td>\n",
       "    </tr>\n",
       "    <tr>\n",
       "      <th>Chucho</th>\n",
       "      <td>74</td>\n",
       "      <td>170</td>\n",
       "      <td>NaN</td>\n",
       "      <td>2004</td>\n",
       "      <td>20</td>\n",
       "    </tr>\n",
       "    <tr>\n",
       "      <th>Emilio</th>\n",
       "      <td>72</td>\n",
       "      <td>169</td>\n",
       "      <td>NaN</td>\n",
       "      <td>2004</td>\n",
       "      <td>20</td>\n",
       "    </tr>\n",
       "    <tr>\n",
       "      <th>Jocelin</th>\n",
       "      <td>73</td>\n",
       "      <td>170</td>\n",
       "      <td>9.0</td>\n",
       "      <td>2004</td>\n",
       "      <td>20</td>\n",
       "    </tr>\n",
       "  </tbody>\n",
       "</table>\n",
       "</div>"
      ],
      "text/plain": [
       "         Peso  Altura  Mascotas  Anio_Nac  Edad\n",
       "Anel       60     145       2.0      2004    20\n",
       "Chucho     74     170       NaN      2004    20\n",
       "Emilio     72     169       NaN      2004    20\n",
       "Jocelin    73     170       9.0      2004    20"
      ]
     },
     "execution_count": 34,
     "metadata": {},
     "output_type": "execute_result"
    }
   ],
   "source": [
    "# Añadir una nueva columna calculada al DataFrame\n",
    "df[\"Edad\"] = 2024- df[\"Anio_Nac\"]\n",
    "df"
   ]
  },
  {
   "cell_type": "code",
   "execution_count": 35,
   "id": "8fc55438-b9db-4882-a786-fe12f775347c",
   "metadata": {},
   "outputs": [
    {
     "data": {
      "text/html": [
       "<div>\n",
       "<style scoped>\n",
       "    .dataframe tbody tr th:only-of-type {\n",
       "        vertical-align: middle;\n",
       "    }\n",
       "\n",
       "    .dataframe tbody tr th {\n",
       "        vertical-align: top;\n",
       "    }\n",
       "\n",
       "    .dataframe thead th {\n",
       "        text-align: right;\n",
       "    }\n",
       "</style>\n",
       "<table border=\"1\" class=\"dataframe\">\n",
       "  <thead>\n",
       "    <tr style=\"text-align: right;\">\n",
       "      <th></th>\n",
       "      <th>Peso</th>\n",
       "      <th>Altura</th>\n",
       "      <th>Mascotas</th>\n",
       "      <th>Anio_Nac</th>\n",
       "      <th>Edad</th>\n",
       "      <th>Hijos</th>\n",
       "    </tr>\n",
       "  </thead>\n",
       "  <tbody>\n",
       "    <tr>\n",
       "      <th>Anel</th>\n",
       "      <td>60</td>\n",
       "      <td>145</td>\n",
       "      <td>2.0</td>\n",
       "      <td>2004</td>\n",
       "      <td>20</td>\n",
       "      <td>2</td>\n",
       "    </tr>\n",
       "    <tr>\n",
       "      <th>Chucho</th>\n",
       "      <td>74</td>\n",
       "      <td>170</td>\n",
       "      <td>NaN</td>\n",
       "      <td>2004</td>\n",
       "      <td>20</td>\n",
       "      <td>1</td>\n",
       "    </tr>\n",
       "    <tr>\n",
       "      <th>Emilio</th>\n",
       "      <td>72</td>\n",
       "      <td>169</td>\n",
       "      <td>NaN</td>\n",
       "      <td>2004</td>\n",
       "      <td>20</td>\n",
       "      <td>2</td>\n",
       "    </tr>\n",
       "    <tr>\n",
       "      <th>Jocelin</th>\n",
       "      <td>73</td>\n",
       "      <td>170</td>\n",
       "      <td>9.0</td>\n",
       "      <td>2004</td>\n",
       "      <td>20</td>\n",
       "      <td>1</td>\n",
       "    </tr>\n",
       "  </tbody>\n",
       "</table>\n",
       "</div>"
      ],
      "text/plain": [
       "         Peso  Altura  Mascotas  Anio_Nac  Edad  Hijos\n",
       "Anel       60     145       2.0      2004    20      2\n",
       "Chucho     74     170       NaN      2004    20      1\n",
       "Emilio     72     169       NaN      2004    20      2\n",
       "Jocelin    73     170       9.0      2004    20      1"
      ]
     },
     "execution_count": 35,
     "metadata": {},
     "output_type": "execute_result"
    }
   ],
   "source": [
    "# Añadir una nueva columna creando un DataFrame nuevo\n",
    "df_mod = df.assign(Hijos = [2, 1, 2, 1])\n",
    "df_mod"
   ]
  },
  {
   "cell_type": "markdown",
   "id": "d771d747-8413-4bcd-b0e2-fd88148a89ad",
   "metadata": {},
   "source": []
  },
  {
   "cell_type": "code",
   "execution_count": 36,
   "id": "fd36427c-891b-4115-abaf-48718f8b7685",
   "metadata": {},
   "outputs": [
    {
     "data": {
      "text/html": [
       "<div>\n",
       "<style scoped>\n",
       "    .dataframe tbody tr th:only-of-type {\n",
       "        vertical-align: middle;\n",
       "    }\n",
       "\n",
       "    .dataframe tbody tr th {\n",
       "        vertical-align: top;\n",
       "    }\n",
       "\n",
       "    .dataframe thead th {\n",
       "        text-align: right;\n",
       "    }\n",
       "</style>\n",
       "<table border=\"1\" class=\"dataframe\">\n",
       "  <thead>\n",
       "    <tr style=\"text-align: right;\">\n",
       "      <th></th>\n",
       "      <th>Peso</th>\n",
       "      <th>Altura</th>\n",
       "      <th>Mascotas</th>\n",
       "      <th>Anio_Nac</th>\n",
       "      <th>Edad</th>\n",
       "    </tr>\n",
       "  </thead>\n",
       "  <tbody>\n",
       "    <tr>\n",
       "      <th>Anel</th>\n",
       "      <td>60</td>\n",
       "      <td>145</td>\n",
       "      <td>2.0</td>\n",
       "      <td>2004</td>\n",
       "      <td>20</td>\n",
       "    </tr>\n",
       "    <tr>\n",
       "      <th>Chucho</th>\n",
       "      <td>74</td>\n",
       "      <td>170</td>\n",
       "      <td>NaN</td>\n",
       "      <td>2004</td>\n",
       "      <td>20</td>\n",
       "    </tr>\n",
       "    <tr>\n",
       "      <th>Emilio</th>\n",
       "      <td>72</td>\n",
       "      <td>169</td>\n",
       "      <td>NaN</td>\n",
       "      <td>2004</td>\n",
       "      <td>20</td>\n",
       "    </tr>\n",
       "    <tr>\n",
       "      <th>Jocelin</th>\n",
       "      <td>73</td>\n",
       "      <td>170</td>\n",
       "      <td>9.0</td>\n",
       "      <td>2004</td>\n",
       "      <td>20</td>\n",
       "    </tr>\n",
       "  </tbody>\n",
       "</table>\n",
       "</div>"
      ],
      "text/plain": [
       "         Peso  Altura  Mascotas  Anio_Nac  Edad\n",
       "Anel       60     145       2.0      2004    20\n",
       "Chucho     74     170       NaN      2004    20\n",
       "Emilio     72     169       NaN      2004    20\n",
       "Jocelin    73     170       9.0      2004    20"
      ]
     },
     "execution_count": 36,
     "metadata": {},
     "output_type": "execute_result"
    }
   ],
   "source": [
    "df"
   ]
  },
  {
   "cell_type": "code",
   "execution_count": 37,
   "id": "7defb6a8-be06-4626-9b9e-6500b01c06b2",
   "metadata": {},
   "outputs": [
    {
     "data": {
      "text/html": [
       "<div>\n",
       "<style scoped>\n",
       "    .dataframe tbody tr th:only-of-type {\n",
       "        vertical-align: middle;\n",
       "    }\n",
       "\n",
       "    .dataframe tbody tr th {\n",
       "        vertical-align: top;\n",
       "    }\n",
       "\n",
       "    .dataframe thead th {\n",
       "        text-align: right;\n",
       "    }\n",
       "</style>\n",
       "<table border=\"1\" class=\"dataframe\">\n",
       "  <thead>\n",
       "    <tr style=\"text-align: right;\">\n",
       "      <th></th>\n",
       "      <th>Altura</th>\n",
       "      <th>Mascotas</th>\n",
       "      <th>Anio_Nac</th>\n",
       "      <th>Edad</th>\n",
       "    </tr>\n",
       "  </thead>\n",
       "  <tbody>\n",
       "    <tr>\n",
       "      <th>Anel</th>\n",
       "      <td>145</td>\n",
       "      <td>2.0</td>\n",
       "      <td>2004</td>\n",
       "      <td>20</td>\n",
       "    </tr>\n",
       "    <tr>\n",
       "      <th>Chucho</th>\n",
       "      <td>170</td>\n",
       "      <td>NaN</td>\n",
       "      <td>2004</td>\n",
       "      <td>20</td>\n",
       "    </tr>\n",
       "    <tr>\n",
       "      <th>Emilio</th>\n",
       "      <td>169</td>\n",
       "      <td>NaN</td>\n",
       "      <td>2004</td>\n",
       "      <td>20</td>\n",
       "    </tr>\n",
       "    <tr>\n",
       "      <th>Jocelin</th>\n",
       "      <td>170</td>\n",
       "      <td>9.0</td>\n",
       "      <td>2004</td>\n",
       "      <td>20</td>\n",
       "    </tr>\n",
       "  </tbody>\n",
       "</table>\n",
       "</div>"
      ],
      "text/plain": [
       "         Altura  Mascotas  Anio_Nac  Edad\n",
       "Anel        145       2.0      2004    20\n",
       "Chucho      170       NaN      2004    20\n",
       "Emilio      169       NaN      2004    20\n",
       "Jocelin     170       9.0      2004    20"
      ]
     },
     "execution_count": 37,
     "metadata": {},
     "output_type": "execute_result"
    }
   ],
   "source": [
    "# Eliminar una columna existente del DataFrame\n",
    "del df[\"Peso\"]\n",
    "df"
   ]
  },
  {
   "cell_type": "code",
   "execution_count": 38,
   "id": "72870e2a-eee9-4fd8-8f0b-f81e5b9e075d",
   "metadata": {},
   "outputs": [
    {
     "data": {
      "text/html": [
       "<div>\n",
       "<style scoped>\n",
       "    .dataframe tbody tr th:only-of-type {\n",
       "        vertical-align: middle;\n",
       "    }\n",
       "\n",
       "    .dataframe tbody tr th {\n",
       "        vertical-align: top;\n",
       "    }\n",
       "\n",
       "    .dataframe thead th {\n",
       "        text-align: right;\n",
       "    }\n",
       "</style>\n",
       "<table border=\"1\" class=\"dataframe\">\n",
       "  <thead>\n",
       "    <tr style=\"text-align: right;\">\n",
       "      <th></th>\n",
       "      <th>Peso</th>\n",
       "      <th>Altura</th>\n",
       "      <th>Mascotas</th>\n",
       "      <th>Anio_Nac</th>\n",
       "      <th>Edad</th>\n",
       "    </tr>\n",
       "  </thead>\n",
       "  <tbody>\n",
       "    <tr>\n",
       "      <th>Anel</th>\n",
       "      <td>60</td>\n",
       "      <td>145</td>\n",
       "      <td>2.0</td>\n",
       "      <td>2004</td>\n",
       "      <td>20</td>\n",
       "    </tr>\n",
       "    <tr>\n",
       "      <th>Chucho</th>\n",
       "      <td>74</td>\n",
       "      <td>170</td>\n",
       "      <td>NaN</td>\n",
       "      <td>2004</td>\n",
       "      <td>20</td>\n",
       "    </tr>\n",
       "    <tr>\n",
       "      <th>Emilio</th>\n",
       "      <td>72</td>\n",
       "      <td>169</td>\n",
       "      <td>NaN</td>\n",
       "      <td>2004</td>\n",
       "      <td>20</td>\n",
       "    </tr>\n",
       "    <tr>\n",
       "      <th>Jocelin</th>\n",
       "      <td>73</td>\n",
       "      <td>170</td>\n",
       "      <td>9.0</td>\n",
       "      <td>2004</td>\n",
       "      <td>20</td>\n",
       "    </tr>\n",
       "  </tbody>\n",
       "</table>\n",
       "</div>"
      ],
      "text/plain": [
       "         Peso  Altura  Mascotas  Anio_Nac  Edad\n",
       "Anel       60     145       2.0      2004    20\n",
       "Chucho     74     170       NaN      2004    20\n",
       "Emilio     72     169       NaN      2004    20\n",
       "Jocelin    73     170       9.0      2004    20"
      ]
     },
     "execution_count": 38,
     "metadata": {},
     "output_type": "execute_result"
    }
   ],
   "source": [
    "# Eliminar una columna existente devolviendo una copia del DataFrame resultante\n",
    "df_mod = df_mod.drop([\"Hijos\"], axis= 1)\n",
    "df_mod"
   ]
  },
  {
   "cell_type": "code",
   "execution_count": 39,
   "id": "41d94dfc-e889-426f-89c2-c49d34edc083",
   "metadata": {},
   "outputs": [
    {
     "data": {
      "text/html": [
       "<div>\n",
       "<style scoped>\n",
       "    .dataframe tbody tr th:only-of-type {\n",
       "        vertical-align: middle;\n",
       "    }\n",
       "\n",
       "    .dataframe tbody tr th {\n",
       "        vertical-align: top;\n",
       "    }\n",
       "\n",
       "    .dataframe thead th {\n",
       "        text-align: right;\n",
       "    }\n",
       "</style>\n",
       "<table border=\"1\" class=\"dataframe\">\n",
       "  <thead>\n",
       "    <tr style=\"text-align: right;\">\n",
       "      <th></th>\n",
       "      <th>Altura</th>\n",
       "      <th>Mascotas</th>\n",
       "      <th>Anio_Nac</th>\n",
       "      <th>Edad</th>\n",
       "    </tr>\n",
       "  </thead>\n",
       "  <tbody>\n",
       "    <tr>\n",
       "      <th>Anel</th>\n",
       "      <td>145</td>\n",
       "      <td>2.0</td>\n",
       "      <td>2004</td>\n",
       "      <td>20</td>\n",
       "    </tr>\n",
       "    <tr>\n",
       "      <th>Chucho</th>\n",
       "      <td>170</td>\n",
       "      <td>NaN</td>\n",
       "      <td>2004</td>\n",
       "      <td>20</td>\n",
       "    </tr>\n",
       "    <tr>\n",
       "      <th>Emilio</th>\n",
       "      <td>169</td>\n",
       "      <td>NaN</td>\n",
       "      <td>2004</td>\n",
       "      <td>20</td>\n",
       "    </tr>\n",
       "    <tr>\n",
       "      <th>Jocelin</th>\n",
       "      <td>170</td>\n",
       "      <td>9.0</td>\n",
       "      <td>2004</td>\n",
       "      <td>20</td>\n",
       "    </tr>\n",
       "  </tbody>\n",
       "</table>\n",
       "</div>"
      ],
      "text/plain": [
       "         Altura  Mascotas  Anio_Nac  Edad\n",
       "Anel        145       2.0      2004    20\n",
       "Chucho      170       NaN      2004    20\n",
       "Emilio      169       NaN      2004    20\n",
       "Jocelin     170       9.0      2004    20"
      ]
     },
     "execution_count": 39,
     "metadata": {},
     "output_type": "execute_result"
    }
   ],
   "source": [
    "df"
   ]
  },
  {
   "cell_type": "markdown",
   "id": "2dbdd569-a212-44e3-bc20-b66ac889afb7",
   "metadata": {},
   "source": [
    "## Evaluacion de expresiones de un DataFrame\n"
   ]
  },
  {
   "cell_type": "code",
   "execution_count": 40,
   "id": "da72bf75-704c-40c2-a314-aaaf084240dd",
   "metadata": {},
   "outputs": [
    {
     "data": {
      "text/html": [
       "<div>\n",
       "<style scoped>\n",
       "    .dataframe tbody tr th:only-of-type {\n",
       "        vertical-align: middle;\n",
       "    }\n",
       "\n",
       "    .dataframe tbody tr th {\n",
       "        vertical-align: top;\n",
       "    }\n",
       "\n",
       "    .dataframe thead th {\n",
       "        text-align: right;\n",
       "    }\n",
       "</style>\n",
       "<table border=\"1\" class=\"dataframe\">\n",
       "  <thead>\n",
       "    <tr style=\"text-align: right;\">\n",
       "      <th></th>\n",
       "      <th>Peso</th>\n",
       "      <th>Altura</th>\n",
       "      <th>Mascotas</th>\n",
       "    </tr>\n",
       "  </thead>\n",
       "  <tbody>\n",
       "    <tr>\n",
       "      <th>Anel</th>\n",
       "      <td>60</td>\n",
       "      <td>145</td>\n",
       "      <td>2.0</td>\n",
       "    </tr>\n",
       "    <tr>\n",
       "      <th>Chucho</th>\n",
       "      <td>74</td>\n",
       "      <td>170</td>\n",
       "      <td>NaN</td>\n",
       "    </tr>\n",
       "    <tr>\n",
       "      <th>Emilio</th>\n",
       "      <td>72</td>\n",
       "      <td>169</td>\n",
       "      <td>NaN</td>\n",
       "    </tr>\n",
       "    <tr>\n",
       "      <th>Jocelin</th>\n",
       "      <td>73</td>\n",
       "      <td>170</td>\n",
       "      <td>9.0</td>\n",
       "    </tr>\n",
       "  </tbody>\n",
       "</table>\n",
       "</div>"
      ],
      "text/plain": [
       "         Peso  Altura  Mascotas\n",
       "Anel       60     145       2.0\n",
       "Chucho     74     170       NaN\n",
       "Emilio     72     169       NaN\n",
       "Jocelin    73     170       9.0"
      ]
     },
     "execution_count": 40,
     "metadata": {},
     "output_type": "execute_result"
    }
   ],
   "source": [
    "# Crear un DataFrame e inicializarlo con un diccionario de objetos en Series.\n",
    "Personas = {\n",
    "\"Peso\": pd.Series ([72, 60, 74, 73], [\"Emilio\", \"Anel\", \"Chucho\", \"Jocelin\"]), \n",
    "    \"Altura\": pd.Series({\"Emilio\": 169, \"Anel\":145, \"Chucho\": 170, \"Jocelin\": 170}),\n",
    "    \"Mascotas\": pd.Series([2, 9], [\"Anel\", \"Jocelin\"])\n",
    "}\n",
    "\n",
    "df = pd.DataFrame(Personas)\n",
    "df"
   ]
  },
  {
   "cell_type": "code",
   "execution_count": 41,
   "id": "4b2d471a-f48e-4435-b04e-4ad1e8670be5",
   "metadata": {},
   "outputs": [
    {
     "data": {
      "text/plain": [
       "Anel       72.5\n",
       "Chucho     85.0\n",
       "Emilio     84.5\n",
       "Jocelin    85.0\n",
       "dtype: float64"
      ]
     },
     "execution_count": 41,
     "metadata": {},
     "output_type": "execute_result"
    }
   ],
   "source": [
    "# Evaluar una funcion sobre una columna del DataFrame.\n",
    "df.eval(\"Altura /2\")"
   ]
  },
  {
   "cell_type": "code",
   "execution_count": 42,
   "id": "b7a327ea-0074-4264-a7c1-fee805c932fa",
   "metadata": {},
   "outputs": [
    {
     "data": {
      "text/plain": [
       "Anel       False\n",
       "Chucho      True\n",
       "Emilio      True\n",
       "Jocelin     True\n",
       "dtype: bool"
      ]
     },
     "execution_count": 42,
     "metadata": {},
     "output_type": "execute_result"
    }
   ],
   "source": [
    "# Evaluar una función utilizando una variable local\n",
    "max_altura=165\n",
    "df.eval(\"Altura > @max_altura\")"
   ]
  },
  {
   "cell_type": "code",
   "execution_count": 43,
   "id": "c016fc87-5ec2-4385-a198-1e260ff8e78b",
   "metadata": {},
   "outputs": [
    {
     "data": {
      "text/plain": [
       "Anel       62\n",
       "Chucho     76\n",
       "Emilio     74\n",
       "Jocelin    75\n",
       "Name: Peso, dtype: int64"
      ]
     },
     "execution_count": 43,
     "metadata": {},
     "output_type": "execute_result"
    }
   ],
   "source": [
    "# Aplicar una función a una columna del DataFrame \n",
    "def func(x):\n",
    "    return x+2\n",
    "\n",
    "df[\"Peso\"].apply(func)"
   ]
  },
  {
   "cell_type": "markdown",
   "id": "76f860ca-e597-42fe-b13b-170a9782ee6b",
   "metadata": {},
   "source": [
    "## Guardar y cargar el DataFrame"
   ]
  },
  {
   "cell_type": "code",
   "execution_count": 44,
   "id": "168be38a-1d91-4704-997c-4fcfe787d788",
   "metadata": {},
   "outputs": [
    {
     "data": {
      "text/html": [
       "<div>\n",
       "<style scoped>\n",
       "    .dataframe tbody tr th:only-of-type {\n",
       "        vertical-align: middle;\n",
       "    }\n",
       "\n",
       "    .dataframe tbody tr th {\n",
       "        vertical-align: top;\n",
       "    }\n",
       "\n",
       "    .dataframe thead th {\n",
       "        text-align: right;\n",
       "    }\n",
       "</style>\n",
       "<table border=\"1\" class=\"dataframe\">\n",
       "  <thead>\n",
       "    <tr style=\"text-align: right;\">\n",
       "      <th></th>\n",
       "      <th>Peso</th>\n",
       "      <th>Altura</th>\n",
       "      <th>Mascotas</th>\n",
       "    </tr>\n",
       "  </thead>\n",
       "  <tbody>\n",
       "    <tr>\n",
       "      <th>Anel</th>\n",
       "      <td>60</td>\n",
       "      <td>145</td>\n",
       "      <td>2.0</td>\n",
       "    </tr>\n",
       "    <tr>\n",
       "      <th>Chucho</th>\n",
       "      <td>74</td>\n",
       "      <td>170</td>\n",
       "      <td>NaN</td>\n",
       "    </tr>\n",
       "    <tr>\n",
       "      <th>Emilio</th>\n",
       "      <td>72</td>\n",
       "      <td>169</td>\n",
       "      <td>NaN</td>\n",
       "    </tr>\n",
       "    <tr>\n",
       "      <th>Jocelin</th>\n",
       "      <td>73</td>\n",
       "      <td>170</td>\n",
       "      <td>9.0</td>\n",
       "    </tr>\n",
       "  </tbody>\n",
       "</table>\n",
       "</div>"
      ],
      "text/plain": [
       "         Peso  Altura  Mascotas\n",
       "Anel       60     145       2.0\n",
       "Chucho     74     170       NaN\n",
       "Emilio     72     169       NaN\n",
       "Jocelin    73     170       9.0"
      ]
     },
     "execution_count": 44,
     "metadata": {},
     "output_type": "execute_result"
    }
   ],
   "source": [
    "# Crear un DataFrame e inicializarlo con un diccionario de objetos en Series.\n",
    "Personas = {\n",
    "\"Peso\": pd.Series ([72, 60, 74, 73], [\"Emilio\", \"Anel\", \"Chucho\", \"Jocelin\"]), \n",
    "    \"Altura\": pd.Series({\"Emilio\": 169, \"Anel\":145, \"Chucho\": 170, \"Jocelin\": 170}),\n",
    "    \"Mascotas\": pd.Series([2, 9], [\"Anel\", \"Jocelin\"])\n",
    "}\n",
    "\n",
    "df = pd.DataFrame(Personas)\n",
    "df"
   ]
  },
  {
   "cell_type": "code",
   "execution_count": 45,
   "id": "04cb308c-fc7a-4f8c-92a0-7ff5368730d5",
   "metadata": {},
   "outputs": [],
   "source": [
    "# Guardar el DataFrame como CSV, HTML y JSON.\n",
    "df.to_csv(\"df_Personas.csv\")\n",
    "df.to_html(\"df_Personas.html\")\n",
    "df.to_json(\"df_Personas.json\")"
   ]
  },
  {
   "cell_type": "code",
   "execution_count": 46,
   "id": "72ce1465-ca9c-48f6-ae67-da0c2d2b92ee",
   "metadata": {},
   "outputs": [],
   "source": [
    "# Cargar el DataFrame en Jupyter.\n",
    "df2= pd.read_csv(\"df_Personas.csv\")"
   ]
  },
  {
   "cell_type": "code",
   "execution_count": 47,
   "id": "23361927-c05b-4eeb-a73f-79c21a753043",
   "metadata": {},
   "outputs": [
    {
     "data": {
      "text/html": [
       "<div>\n",
       "<style scoped>\n",
       "    .dataframe tbody tr th:only-of-type {\n",
       "        vertical-align: middle;\n",
       "    }\n",
       "\n",
       "    .dataframe tbody tr th {\n",
       "        vertical-align: top;\n",
       "    }\n",
       "\n",
       "    .dataframe thead th {\n",
       "        text-align: right;\n",
       "    }\n",
       "</style>\n",
       "<table border=\"1\" class=\"dataframe\">\n",
       "  <thead>\n",
       "    <tr style=\"text-align: right;\">\n",
       "      <th></th>\n",
       "      <th>Unnamed: 0</th>\n",
       "      <th>Peso</th>\n",
       "      <th>Altura</th>\n",
       "      <th>Mascotas</th>\n",
       "    </tr>\n",
       "  </thead>\n",
       "  <tbody>\n",
       "    <tr>\n",
       "      <th>0</th>\n",
       "      <td>Anel</td>\n",
       "      <td>60</td>\n",
       "      <td>145</td>\n",
       "      <td>2.0</td>\n",
       "    </tr>\n",
       "    <tr>\n",
       "      <th>1</th>\n",
       "      <td>Chucho</td>\n",
       "      <td>74</td>\n",
       "      <td>170</td>\n",
       "      <td>NaN</td>\n",
       "    </tr>\n",
       "    <tr>\n",
       "      <th>2</th>\n",
       "      <td>Emilio</td>\n",
       "      <td>72</td>\n",
       "      <td>169</td>\n",
       "      <td>NaN</td>\n",
       "    </tr>\n",
       "    <tr>\n",
       "      <th>3</th>\n",
       "      <td>Jocelin</td>\n",
       "      <td>73</td>\n",
       "      <td>170</td>\n",
       "      <td>9.0</td>\n",
       "    </tr>\n",
       "  </tbody>\n",
       "</table>\n",
       "</div>"
      ],
      "text/plain": [
       "  Unnamed: 0  Peso  Altura  Mascotas\n",
       "0       Anel    60     145       2.0\n",
       "1     Chucho    74     170       NaN\n",
       "2     Emilio    72     169       NaN\n",
       "3    Jocelin    73     170       9.0"
      ]
     },
     "execution_count": 47,
     "metadata": {},
     "output_type": "execute_result"
    }
   ],
   "source": [
    "df2"
   ]
  },
  {
   "cell_type": "code",
   "execution_count": 48,
   "id": "07ad487b-dc49-4ff8-b9ab-b0959785f1cf",
   "metadata": {},
   "outputs": [
    {
     "data": {
      "text/html": [
       "<div>\n",
       "<style scoped>\n",
       "    .dataframe tbody tr th:only-of-type {\n",
       "        vertical-align: middle;\n",
       "    }\n",
       "\n",
       "    .dataframe tbody tr th {\n",
       "        vertical-align: top;\n",
       "    }\n",
       "\n",
       "    .dataframe thead th {\n",
       "        text-align: right;\n",
       "    }\n",
       "</style>\n",
       "<table border=\"1\" class=\"dataframe\">\n",
       "  <thead>\n",
       "    <tr style=\"text-align: right;\">\n",
       "      <th></th>\n",
       "      <th>Peso</th>\n",
       "      <th>Altura</th>\n",
       "      <th>Mascotas</th>\n",
       "    </tr>\n",
       "  </thead>\n",
       "  <tbody>\n",
       "    <tr>\n",
       "      <th>Anel</th>\n",
       "      <td>60</td>\n",
       "      <td>145</td>\n",
       "      <td>2.0</td>\n",
       "    </tr>\n",
       "    <tr>\n",
       "      <th>Chucho</th>\n",
       "      <td>74</td>\n",
       "      <td>170</td>\n",
       "      <td>NaN</td>\n",
       "    </tr>\n",
       "    <tr>\n",
       "      <th>Emilio</th>\n",
       "      <td>72</td>\n",
       "      <td>169</td>\n",
       "      <td>NaN</td>\n",
       "    </tr>\n",
       "    <tr>\n",
       "      <th>Jocelin</th>\n",
       "      <td>73</td>\n",
       "      <td>170</td>\n",
       "      <td>9.0</td>\n",
       "    </tr>\n",
       "  </tbody>\n",
       "</table>\n",
       "</div>"
      ],
      "text/plain": [
       "         Peso  Altura  Mascotas\n",
       "Anel       60     145       2.0\n",
       "Chucho     74     170       NaN\n",
       "Emilio     72     169       NaN\n",
       "Jocelin    73     170       9.0"
      ]
     },
     "execution_count": 48,
     "metadata": {},
     "output_type": "execute_result"
    }
   ],
   "source": [
    "# Cargar el DataFrame con la primera columna correctamente asignada\n",
    "df2 = pd.read_csv(\"df_Personas.csv\", index_col=0)\n",
    "df2"
   ]
  },
  {
   "cell_type": "code",
   "execution_count": 57,
   "id": "cc13d55c-95e0-48a5-88ec-0a6cef5dc3c7",
   "metadata": {},
   "outputs": [
    {
     "data": {
      "text/html": [
       "<div>\n",
       "<style scoped>\n",
       "    .dataframe tbody tr th:only-of-type {\n",
       "        vertical-align: middle;\n",
       "    }\n",
       "\n",
       "    .dataframe tbody tr th {\n",
       "        vertical-align: top;\n",
       "    }\n",
       "\n",
       "    .dataframe thead th {\n",
       "        text-align: right;\n",
       "    }\n",
       "</style>\n",
       "<table border=\"1\" class=\"dataframe\">\n",
       "  <thead>\n",
       "    <tr style=\"text-align: right;\">\n",
       "      <th></th>\n",
       "      <th>Aula</th>\n",
       "    </tr>\n",
       "  </thead>\n",
       "  <tbody>\n",
       "    <tr>\n",
       "      <th>Sala 1</th>\n",
       "      <td>4</td>\n",
       "    </tr>\n",
       "    <tr>\n",
       "      <th>Sala 2</th>\n",
       "      <td>6</td>\n",
       "    </tr>\n",
       "  </tbody>\n",
       "</table>\n",
       "</div>"
      ],
      "text/plain": [
       "        Aula\n",
       "Sala 1     4\n",
       "Sala 2     6"
      ]
     },
     "execution_count": 57,
     "metadata": {},
     "output_type": "execute_result"
    }
   ],
   "source": [
    "import pandas as pd\n",
    "rooms= {\n",
    "    \"Aula\":pd.Series ({\"Sala 1\": 4 ,\"Sala 2\":6})\n",
    "    }\n",
    "df= pd.DataFrame(rooms)\n",
    "df"
   ]
  },
  {
   "cell_type": "code",
   "execution_count": null,
   "id": "247c26b1-82a9-4949-bd32-37eeb0cfe817",
   "metadata": {},
   "outputs": [],
   "source": []
  }
 ],
 "metadata": {
  "kernelspec": {
   "display_name": "Python 3 (ipykernel)",
   "language": "python",
   "name": "python3"
  },
  "language_info": {
   "codemirror_mode": {
    "name": "ipython",
    "version": 3
   },
   "file_extension": ".py",
   "mimetype": "text/x-python",
   "name": "python",
   "nbconvert_exporter": "python",
   "pygments_lexer": "ipython3",
   "version": "3.12.4"
  }
 },
 "nbformat": 4,
 "nbformat_minor": 5
}
